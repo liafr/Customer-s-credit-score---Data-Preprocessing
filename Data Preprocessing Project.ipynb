{
 "cells": [
  {
   "cell_type": "markdown",
   "metadata": {},
   "source": [
    "## Project description."
   ]
  },
  {
   "cell_type": "markdown",
   "metadata": {},
   "source": [
    "The project is to prepare a report for a bank’s loan division. <br>\n",
    "We need to find out if a customer’s marital status and number of children has an impact on whether they will default on a loan. The bank already has some data on customers’ credit worthiness. <br>\n",
    "Overall goal of the project is to build a credit score for a potential customer. A credit score is used to evaluate the ability of a potential borrower to repay their loan."
   ]
  },
  {
   "cell_type": "markdown",
   "metadata": {},
   "source": [
    "First, we will preprocess the dataset, which includes following steps:\n",
    " - [Identifying and filling in missing values](#processing_missing_values)\n",
    " - [Replacing the real number data type with the integer type](#data_type_replacement)\n",
    " - Deleting duplicate data\n",
    " - Categorizing the data\n",
    "\n",
    "Then we will analyze the resulting dataframe to answer following questions:  \n",
    " - Is there a connection between having kids and repaying a loan on time?\n",
    " - Is there a connection between marital status and repaying a loan on time?\n",
    " - Is there a connection between income level and repaying a loan on time?\n",
    " - How do different loan purposes affect on-time loan repayment?"
   ]
  },
  {
   "cell_type": "markdown",
   "metadata": {},
   "source": [
    "## Step 1. Open the data file and have a look at the general information. "
   ]
  },
  {
   "cell_type": "code",
   "execution_count": 3,
   "metadata": {
    "scrolled": true
   },
   "outputs": [
    {
     "name": "stdout",
     "output_type": "stream",
     "text": [
      "<class 'pandas.core.frame.DataFrame'>\n",
      "RangeIndex: 21525 entries, 0 to 21524\n",
      "Data columns (total 12 columns):\n",
      " #   Column            Non-Null Count  Dtype  \n",
      "---  ------            --------------  -----  \n",
      " 0   children          21525 non-null  int64  \n",
      " 1   days_employed     19351 non-null  float64\n",
      " 2   dob_years         21525 non-null  int64  \n",
      " 3   education         21525 non-null  object \n",
      " 4   education_id      21525 non-null  int64  \n",
      " 5   family_status     21525 non-null  object \n",
      " 6   family_status_id  21525 non-null  int64  \n",
      " 7   gender            21525 non-null  object \n",
      " 8   income_type       21525 non-null  object \n",
      " 9   debt              21525 non-null  int64  \n",
      " 10  total_income      19351 non-null  float64\n",
      " 11  purpose           21525 non-null  object \n",
      "dtypes: float64(2), int64(5), object(5)\n",
      "memory usage: 2.0+ MB\n"
     ]
    }
   ],
   "source": [
    "import pandas as pd\n",
    "df = pd.read_csv(\"credit_scoring_eng.csv\")\n",
    "df.info()"
   ]
  },
  {
   "cell_type": "markdown",
   "metadata": {},
   "source": [
    "Here we can see that our table consists  of 11 columns. <br>\n",
    "Two of them — `days_employed` and `total_income` contain null values. What's interesting, this two columns have exactly the same amount of null values, which means that we are probably missing information about employment and income for the same group of people. That may be due to their unemployment at the moment or some technical error. <br>\n",
    "<br>\n",
    "Now let's take a look at table's content:"
   ]
  },
  {
   "cell_type": "code",
   "execution_count": 1,
   "metadata": {
    "scrolled": true
   },
   "outputs": [
    {
     "ename": "NameError",
     "evalue": "name 'df' is not defined",
     "output_type": "error",
     "traceback": [
      "\u001b[1;31m---------------------------------------------------------------------------\u001b[0m",
      "\u001b[1;31mNameError\u001b[0m                                 Traceback (most recent call last)",
      "\u001b[1;32m<ipython-input-1-17bfc97c9424>\u001b[0m in \u001b[0;36m<module>\u001b[1;34m\u001b[0m\n\u001b[1;32m----> 1\u001b[1;33m \u001b[0mdf\u001b[0m\u001b[1;33m.\u001b[0m\u001b[0msample\u001b[0m\u001b[1;33m(\u001b[0m\u001b[1;36m10\u001b[0m\u001b[1;33m)\u001b[0m\u001b[1;33m\u001b[0m\u001b[1;33m\u001b[0m\u001b[0m\n\u001b[0m",
      "\u001b[1;31mNameError\u001b[0m: name 'df' is not defined"
     ]
    }
   ],
   "source": [
    "df.sample(10)"
   ]
  },
  {
   "cell_type": "markdown",
   "metadata": {},
   "source": [
    "Now we see that the `days_employed` column contains not only null values, but some more artifacts — negative numbers which makes no sense in case of number of working days. <br>\n",
    "#### Conclusion: \n",
    "At first brief look at the data file we already see few columns that contain missing values and values that don't correspond to reality. <br>\n",
    "We are going to fix them and to take a closer look at each of the other columns in the next data preprocessing step to find out if there are any duplicates or other data corruptions."
   ]
  },
  {
   "cell_type": "markdown",
   "metadata": {},
   "source": [
    "<a id=’processing_missing_values’></a>"
   ]
  },
  {
   "cell_type": "markdown",
   "metadata": {},
   "source": [
    "## Step 2. Data preprocessing\n",
    "### Processing missing values\n",
    "#### `days_employed` column\n",
    "\n",
    "In this column we have missing values of NaN type and some negative values. <br>\n",
    "First of all, the amount of working days can't be negative. Most likely it's just some sort of technical error while importing data to the database, so I'm going to turn all of the negative values into positive to fix that. <br>\n",
    "In addition, I'm going to check how many null values we have in this column. \\"
   ]
  },
  {
   "cell_type": "code",
   "execution_count": 479,
   "metadata": {
    "scrolled": true
   },
   "outputs": [
    {
     "data": {
      "text/plain": [
       "2174"
      ]
     },
     "execution_count": 479,
     "metadata": {},
     "output_type": "execute_result"
    }
   ],
   "source": [
    "df['days_employed'] = df['days_employed'].abs()\n",
    "df['days_employed'].isnull().sum()"
   ]
  },
  {
   "cell_type": "markdown",
   "metadata": {},
   "source": [
    "So we have 2174 missing values, what could be the reason for that? Maybe those customers are unemployed at the moment? <br> \n",
    "Let's test this hypothesis by checking the data of `income_type` column corresponding to all null values of `days_employed` column:"
   ]
  },
  {
   "cell_type": "code",
   "execution_count": 480,
   "metadata": {
    "scrolled": true
   },
   "outputs": [
    {
     "data": {
      "text/plain": [
       "employee         1105\n",
       "business          508\n",
       "retiree           413\n",
       "civil servant     147\n",
       "entrepreneur        1\n",
       "Name: income_type, dtype: int64"
      ]
     },
     "execution_count": 480,
     "metadata": {},
     "output_type": "execute_result"
    }
   ],
   "source": [
    "df[df['days_employed'].isnull()]['income_type'].value_counts()"
   ]
  },
  {
   "cell_type": "markdown",
   "metadata": {},
   "source": [
    "Turns out none of the customers with missing values of `days_employed` column are unemployed. So that probably was some random technical mistake. <br>\n",
    "Let's check if we miss values at `total_income` column for the same group of people:"
   ]
  },
  {
   "cell_type": "code",
   "execution_count": 481,
   "metadata": {
    "scrolled": false
   },
   "outputs": [
    {
     "data": {
      "text/plain": [
       "Series([], Name: total_income, dtype: int64)"
      ]
     },
     "execution_count": 481,
     "metadata": {},
     "output_type": "execute_result"
    }
   ],
   "source": [
    "df[df['days_employed'].isnull()]['total_income'].value_counts()"
   ]
  },
  {
   "cell_type": "markdown",
   "metadata": {},
   "source": [
    "The output is empty Series, that means all rows with missing `days_employed` value have `total_income` value missing as well. Taking into account that the `days_employed` and `total_income` column have the same number of null values, we can say that it's the same group of people. <br>\n",
    "<br>\n",
    "The Amount of rows containing null values is too big to just drop them, so it's preferably to fill them with some value that wouldn't affect our final results. For quantitative missing values like we have in column `days_employed` this is a good practice to replace them with mean or median values of a column. Median is preferred when data we're working with has serious outliers. <br>\n",
    "Let's find out if we have them here: "
   ]
  },
  {
   "cell_type": "code",
   "execution_count": 482,
   "metadata": {
    "scrolled": true
   },
   "outputs": [
    {
     "data": {
      "text/plain": [
       "count     19351.000000\n",
       "mean      66914.728907\n",
       "std      139030.880527\n",
       "min          24.141633\n",
       "25%         927.009265\n",
       "50%        2194.220567\n",
       "75%        5537.882441\n",
       "max      401755.400475\n",
       "Name: days_employed, dtype: float64"
      ]
     },
     "execution_count": 482,
     "metadata": {},
     "output_type": "execute_result"
    }
   ],
   "source": [
    "df['days_employed'].describe()"
   ]
  },
  {
   "cell_type": "markdown",
   "metadata": {},
   "source": [
    "We see that **std** which stands for \"Standard deviation of the observations\" is way bigger than **mean** value of the column. There's also quite a big difference between **mean** and **median** (or 50% at the output table) values. <br>\n",
    "That means data has significant outliers, so replacing nulls with median values would be more representative."
   ]
  },
  {
   "cell_type": "code",
   "execution_count": 483,
   "metadata": {},
   "outputs": [],
   "source": [
    "df.loc[df['days_employed'].isnull(), 'days_employed'] = df['days_employed'].median()"
   ]
  },
  {
   "cell_type": "markdown",
   "metadata": {},
   "source": [
    "#### `total_income` column\n",
    "As we figured out, in the `total_income` column we're missing values for the same group of people as in `days_employed` column. <br>\n",
    "So we can apply the same method for filling null values here. Let's see if our data has any significant outliers:"
   ]
  },
  {
   "cell_type": "code",
   "execution_count": 484,
   "metadata": {
    "scrolled": true
   },
   "outputs": [
    {
     "data": {
      "text/plain": [
       "count     19351.000000\n",
       "mean      26787.568355\n",
       "std       16475.450632\n",
       "min        3306.762000\n",
       "25%       16488.504500\n",
       "50%       23202.870000\n",
       "75%       32549.611000\n",
       "max      362496.645000\n",
       "Name: total_income, dtype: float64"
      ]
     },
     "execution_count": 484,
     "metadata": {},
     "output_type": "execute_result"
    }
   ],
   "source": [
    "df['total_income'].describe()"
   ]
  },
  {
   "cell_type": "markdown",
   "metadata": {},
   "source": [
    "In the case of the `total_income` column, **std** is much smaller than the **mean** value of the column. **mean** and **median** values are about the same. <br>\n",
    "That means data doesn't have any serious outliers, so replacing nulls with mean values would be more preferable in this case. "
   ]
  },
  {
   "cell_type": "code",
   "execution_count": 485,
   "metadata": {},
   "outputs": [],
   "source": [
    "df.loc[df['total_income'].isnull(), 'total_income'] = df['total_income'].mean()"
   ]
  },
  {
   "cell_type": "markdown",
   "metadata": {},
   "source": [
    "#### `dob_years` column\n",
    "Let's have a look at values of `dob_years` (customers age) column:"
   ]
  },
  {
   "cell_type": "code",
   "execution_count": 486,
   "metadata": {
    "scrolled": false
   },
   "outputs": [
    {
     "data": {
      "text/plain": [
       "count    21525.000000\n",
       "mean        43.293380\n",
       "std         12.574584\n",
       "min          0.000000\n",
       "25%         33.000000\n",
       "50%         42.000000\n",
       "75%         53.000000\n",
       "max         75.000000\n",
       "Name: dob_years, dtype: float64"
      ]
     },
     "execution_count": 486,
     "metadata": {},
     "output_type": "execute_result"
    }
   ],
   "source": [
    "df['dob_years'].describe()"
   ]
  },
  {
   "cell_type": "markdown",
   "metadata": {},
   "source": [
    "We see that the minimum age is 0. Let's check if there're more values with unrealistically young age.   "
   ]
  },
  {
   "cell_type": "code",
   "execution_count": 487,
   "metadata": {},
   "outputs": [
    {
     "data": {
      "text/plain": [
       "19"
      ]
     },
     "execution_count": 487,
     "metadata": {},
     "output_type": "execute_result"
    }
   ],
   "source": [
    "df.loc[df['dob_years'] != 0, 'dob_years'].min()"
   ]
  },
  {
   "cell_type": "markdown",
   "metadata": {},
   "source": [
    "So, other than 0, minimum age is 19, which makes sense. <br>\n",
    "We should consider rows with 0 age as missing values. That could be default value for the age column which we're getting when someone doesn't fill out their age.  <br>\n",
    "<br>\n",
    "Let's apply here the same method as for `days_employed` and `total_income` columns and replace missing values with mean or median values. <br>\n",
    "As we see above where we applied the .describe() method to look at the data of `dob_years` column, **std** is much smaller than the **mean** value, **mean** and **median** values are almost the same. That means data doesn't have any serious outliers, which would be weird to have in age data. So we could replace zeros with **mean** value. <br>\n",
    "<br>\n",
    "It also might be a good idea to rename this column to `age` instead of `dob_years` for brevity and being more understandable."
   ]
  },
  {
   "cell_type": "code",
   "execution_count": 488,
   "metadata": {},
   "outputs": [],
   "source": [
    "df.loc[df['dob_years'] == 0, 'dob_years'] = df['dob_years'].mean()\n",
    "df['dob_years'] = df['dob_years'].astype('int64')\n",
    "df.rename(columns={'dob_years': 'age'}, inplace=True)"
   ]
  },
  {
   "cell_type": "markdown",
   "metadata": {},
   "source": [
    "#### Conclusion: "
   ]
  },
  {
   "cell_type": "code",
   "execution_count": 489,
   "metadata": {
    "scrolled": false
   },
   "outputs": [
    {
     "name": "stdout",
     "output_type": "stream",
     "text": [
      "<class 'pandas.core.frame.DataFrame'>\n",
      "RangeIndex: 21525 entries, 0 to 21524\n",
      "Data columns (total 12 columns):\n",
      " #   Column            Non-Null Count  Dtype  \n",
      "---  ------            --------------  -----  \n",
      " 0   children          21525 non-null  int64  \n",
      " 1   days_employed     21525 non-null  float64\n",
      " 2   age               21525 non-null  int64  \n",
      " 3   education         21525 non-null  object \n",
      " 4   education_id      21525 non-null  int64  \n",
      " 5   family_status     21525 non-null  object \n",
      " 6   family_status_id  21525 non-null  int64  \n",
      " 7   gender            21525 non-null  object \n",
      " 8   income_type       21525 non-null  object \n",
      " 9   debt              21525 non-null  int64  \n",
      " 10  total_income      21525 non-null  float64\n",
      " 11  purpose           21525 non-null  object \n",
      "dtypes: float64(2), int64(5), object(5)\n",
      "memory usage: 2.0+ MB\n"
     ]
    }
   ],
   "source": [
    "df.info()"
   ]
  },
  {
   "cell_type": "markdown",
   "metadata": {},
   "source": [
    "Now we got rid of all missing values in the data frame."
   ]
  },
  {
   "cell_type": "markdown",
   "metadata": {},
   "source": [
    "### Data type replacement <a id=’data_type_replacement’></a>\n",
    "`days_employed` and `total_income` columns have float data type. Taking into account that numbers contained at those columns are about thousands/ tens of thousands, digits after decimal point is accuracy that we don't really need. <br>\n",
    "Lets convert values of those two columns into integers:"
   ]
  },
  {
   "cell_type": "code",
   "execution_count": 490,
   "metadata": {},
   "outputs": [
    {
     "name": "stdout",
     "output_type": "stream",
     "text": [
      "<class 'pandas.core.frame.DataFrame'>\n",
      "RangeIndex: 21525 entries, 0 to 21524\n",
      "Data columns (total 12 columns):\n",
      " #   Column            Non-Null Count  Dtype \n",
      "---  ------            --------------  ----- \n",
      " 0   children          21525 non-null  int64 \n",
      " 1   days_employed     21525 non-null  int64 \n",
      " 2   age               21525 non-null  int64 \n",
      " 3   education         21525 non-null  object\n",
      " 4   education_id      21525 non-null  int64 \n",
      " 5   family_status     21525 non-null  object\n",
      " 6   family_status_id  21525 non-null  int64 \n",
      " 7   gender            21525 non-null  object\n",
      " 8   income_type       21525 non-null  object\n",
      " 9   debt              21525 non-null  int64 \n",
      " 10  total_income      21525 non-null  int64 \n",
      " 11  purpose           21525 non-null  object\n",
      "dtypes: int64(7), object(5)\n",
      "memory usage: 2.0+ MB\n"
     ]
    }
   ],
   "source": [
    "df['days_employed'] = df['days_employed'].astype('int64')\n",
    "df['total_income'] = df['total_income'].astype('int64')\n",
    "df.info()"
   ]
  },
  {
   "cell_type": "markdown",
   "metadata": {},
   "source": [
    "#### Conclusion: \n",
    "Now we have a data frame containing only integer and object (String) values."
   ]
  },
  {
   "cell_type": "markdown",
   "metadata": {},
   "source": [
    "### Processing duplicates\n",
    "#### `education` column\n",
    "Let's have a look at all unique category titles that we have in `education` column:"
   ]
  },
  {
   "cell_type": "code",
   "execution_count": 491,
   "metadata": {},
   "outputs": [
    {
     "data": {
      "text/plain": [
       "secondary education    13750\n",
       "bachelor's degree       4718\n",
       "SECONDARY EDUCATION      772\n",
       "Secondary Education      711\n",
       "some college             668\n",
       "BACHELOR'S DEGREE        274\n",
       "Bachelor's Degree        268\n",
       "primary education        250\n",
       "Some College              47\n",
       "SOME COLLEGE              29\n",
       "PRIMARY EDUCATION         17\n",
       "Primary Education         15\n",
       "graduate degree            4\n",
       "GRADUATE DEGREE            1\n",
       "Graduate Degree            1\n",
       "Name: education, dtype: int64"
      ]
     },
     "execution_count": 491,
     "metadata": {},
     "output_type": "execute_result"
    }
   ],
   "source": [
    "df['education'].value_counts()"
   ]
  },
  {
   "cell_type": "markdown",
   "metadata": {},
   "source": [
    "We see a lot of duplicates caused by writing the same category title with all capital or all lowercase letters. <br>\n",
    "Let's get rid of such duplicates by lowercasing all category titles."
   ]
  },
  {
   "cell_type": "code",
   "execution_count": 492,
   "metadata": {},
   "outputs": [
    {
     "data": {
      "text/plain": [
       "secondary education    15233\n",
       "bachelor's degree       5260\n",
       "some college             744\n",
       "primary education        282\n",
       "graduate degree            6\n",
       "Name: education, dtype: int64"
      ]
     },
     "execution_count": 492,
     "metadata": {},
     "output_type": "execute_result"
    }
   ],
   "source": [
    "df['education'] = df['education'].str.lower()\n",
    "df['education'].value_counts()"
   ]
  },
  {
   "cell_type": "markdown",
   "metadata": {},
   "source": [
    "Now after we got rid of all duplicates, the number of categories in the `education` column decreased to 5. <br>\n",
    "Let's see if that corresponds to the number of category IDs that we have in the `education_id` column: "
   ]
  },
  {
   "cell_type": "code",
   "execution_count": 493,
   "metadata": {},
   "outputs": [
    {
     "data": {
      "text/plain": [
       "1    15233\n",
       "0     5260\n",
       "2      744\n",
       "3      282\n",
       "4        6\n",
       "Name: education_id, dtype: int64"
      ]
     },
     "execution_count": 493,
     "metadata": {},
     "output_type": "execute_result"
    }
   ],
   "source": [
    "df['education_id'].value_counts()"
   ]
  },
  {
   "cell_type": "markdown",
   "metadata": {},
   "source": [
    "Great. So we have the same number of titles and IDs and same number of rows under each of category titles and IDs.\n",
    "Which means now we can pair up each education level title with it's ID number.\n",
    "#### `purpose` column\n",
    "Let's have a look at all unique category titles that we have in `purpose` column:"
   ]
  },
  {
   "cell_type": "code",
   "execution_count": 494,
   "metadata": {
    "scrolled": false
   },
   "outputs": [
    {
     "data": {
      "text/plain": [
       "wedding ceremony                            797\n",
       "having a wedding                            777\n",
       "to have a wedding                           774\n",
       "real estate transactions                    676\n",
       "buy commercial real estate                  664\n",
       "housing transactions                        653\n",
       "buying property for renting out             653\n",
       "transactions with commercial real estate    651\n",
       "purchase of the house                       647\n",
       "housing                                     647\n",
       "purchase of the house for my family         641\n",
       "construction of own property                635\n",
       "property                                    634\n",
       "transactions with my real estate            630\n",
       "building a real estate                      626\n",
       "buy real estate                             624\n",
       "building a property                         620\n",
       "purchase of my own house                    620\n",
       "housing renovation                          612\n",
       "buy residential real estate                 607\n",
       "buying my own car                           505\n",
       "going to university                         496\n",
       "car                                         495\n",
       "second-hand car purchase                    489\n",
       "to own a car                                480\n",
       "buying a second-hand car                    479\n",
       "cars                                        478\n",
       "to buy a car                                472\n",
       "supplementary education                     462\n",
       "car purchase                                462\n",
       "purchase of a car                           455\n",
       "university education                        453\n",
       "education                                   447\n",
       "to get a supplementary education            447\n",
       "getting an education                        443\n",
       "profile education                           436\n",
       "getting higher education                    426\n",
       "to become educated                          412\n",
       "Name: purpose, dtype: int64"
      ]
     },
     "execution_count": 494,
     "metadata": {},
     "output_type": "execute_result"
    }
   ],
   "source": [
    "df['purpose'].value_counts()"
   ]
  },
  {
   "cell_type": "markdown",
   "metadata": {},
   "source": [
    "We see here a lot of categories which are not identical duplicates, but referring to the same reason why customer is taking a loan. <br>\n",
    "Like _\"wedding ceremony\", \"having a wedding\"_ and _\"to have a wedding\"_ are referring to _\"wedding\"_. <br>\n",
    "<br>\n",
    "We could find such duplicates using the Stemming method. <br>\n",
    "First of all, let's create a function that taking word as an argument and looking for categories containing this word (or it's form) in the `purpose` column, then replacing all of such duplicates with that argument word:"
   ]
  },
  {
   "cell_type": "code",
   "execution_count": 495,
   "metadata": {
    "scrolled": true
   },
   "outputs": [],
   "source": [
    "import nltk\n",
    "from nltk.stem import SnowballStemmer\n",
    "eng_stemmer = SnowballStemmer('english')\n",
    "\n",
    "def stemming_function(argument_word):\n",
    "    for purpose in df['purpose'].unique():\n",
    "        for word in purpose.split(\" \"):\n",
    "            stemmed_word = eng_stemmer.stem(word)\n",
    "            if stemmed_word == argument_word:\n",
    "                df.loc[df['purpose'] == purpose, 'purpose'] = argument_word       "
   ]
  },
  {
   "cell_type": "markdown",
   "metadata": {},
   "source": [
    "Here's the list of words that appear multiple times in `purpose` column and could be used as argument words:\n",
    " - car\n",
    " - education\n",
    " - wedding\n",
    " - house\n",
    " - property\n",
    " - real estate\n",
    " - university\n",
    " \n",
    "Let's find out stems for them, so we can apply them as arguments for stemming function. <br>\n",
    "_\"real estate\"_ contains two words, so we might apply only _\"estate\"_ as an argument word."
   ]
  },
  {
   "cell_type": "code",
   "execution_count": 496,
   "metadata": {
    "scrolled": false
   },
   "outputs": [
    {
     "name": "stdout",
     "output_type": "stream",
     "text": [
      "car — car\n",
      "education — educ\n",
      "wedding — wed\n",
      "house — hous\n",
      "property — properti\n",
      "real estate — estat\n",
      "university — univers\n"
     ]
    }
   ],
   "source": [
    "print(\"car —\", eng_stemmer.stem('car'))\n",
    "print(\"education —\", eng_stemmer.stem('education'))\n",
    "print(\"wedding —\", eng_stemmer.stem('wedding'))\n",
    "print(\"house —\", eng_stemmer.stem('house'))\n",
    "print(\"property —\", eng_stemmer.stem('property'))\n",
    "print(\"real estate —\", eng_stemmer.stem('estate'))\n",
    "print(\"university —\", eng_stemmer.stem('university'))"
   ]
  },
  {
   "cell_type": "markdown",
   "metadata": {},
   "source": [
    "Let's apply the stemming function with all stem words that we got."
   ]
  },
  {
   "cell_type": "code",
   "execution_count": 497,
   "metadata": {
    "scrolled": true
   },
   "outputs": [
    {
     "data": {
      "text/plain": [
       "estat       4478\n",
       "car         4315\n",
       "hous        3820\n",
       "educ        3526\n",
       "properti    2542\n",
       "wed         2348\n",
       "univers      496\n",
       "Name: purpose, dtype: int64"
      ]
     },
     "execution_count": 497,
     "metadata": {},
     "output_type": "execute_result"
    }
   ],
   "source": [
    "stemming_function('car')\n",
    "stemming_function('educ')\n",
    "stemming_function('wed')\n",
    "stemming_function('hous')\n",
    "stemming_function('properti')\n",
    "stemming_function('estat')\n",
    "stemming_function('univers')\n",
    "df['purpose'].value_counts()"
   ]
  },
  {
   "cell_type": "markdown",
   "metadata": {},
   "source": [
    "Now there are still some more categories that we can join together: \n",
    " - _education_ and _university_ can be combined in one category: _education_\n",
    " - _house, property_ and _real estate_ can be combined into _real estate_.\n",
    "\n",
    "Also we might want to rename all categories back to their normal names instead of stem words. "
   ]
  },
  {
   "cell_type": "code",
   "execution_count": 498,
   "metadata": {
    "scrolled": false
   },
   "outputs": [
    {
     "data": {
      "text/plain": [
       "real_estate    10840\n",
       "car             4315\n",
       "education       4022\n",
       "wedding         2348\n",
       "Name: purpose, dtype: int64"
      ]
     },
     "execution_count": 498,
     "metadata": {},
     "output_type": "execute_result"
    }
   ],
   "source": [
    "df.loc[(df['purpose'] == 'estat') | (df['purpose'] == 'hous') | (df['purpose'] == 'properti'), 'purpose'] = 'real_estate'\n",
    "df.loc[(df['purpose'] == 'educ') | (df['purpose'] == 'univers'), 'purpose'] = 'education'\n",
    "df.loc[(df['purpose'] == 'wed'), 'purpose'] = 'wedding'\n",
    "df['purpose'].value_counts()"
   ]
  },
  {
   "cell_type": "markdown",
   "metadata": {},
   "source": [
    "#### Conclusion: \n",
    "We processed all of the duplicates and decreased the number categories in `education` column to 5 and in `purpose` column to 4."
   ]
  },
  {
   "cell_type": "markdown",
   "metadata": {},
   "source": [
    "### Other data artifacts\n",
    "#### `children` column\n",
    "Let's have a look at all unique values of `children` column:"
   ]
  },
  {
   "cell_type": "code",
   "execution_count": 499,
   "metadata": {
    "scrolled": true
   },
   "outputs": [
    {
     "data": {
      "text/plain": [
       " 0     14149\n",
       " 1      4818\n",
       " 2      2055\n",
       " 3       330\n",
       " 20       76\n",
       "-1        47\n",
       " 4        41\n",
       " 5         9\n",
       "Name: children, dtype: int64"
      ]
     },
     "execution_count": 499,
     "metadata": {},
     "output_type": "execute_result"
    }
   ],
   "source": [
    "df['children'].value_counts()"
   ]
  },
  {
   "cell_type": "markdown",
   "metadata": {},
   "source": [
    "**20** and **-1** number of children are looking like mistakes. <br>\n",
    "Since we don't have anyone with a number of children more than 5, **20** is looking like a misprint for **2**. <br>\n",
    "**-1** most likely is a misprint for **1**."
   ]
  },
  {
   "cell_type": "code",
   "execution_count": 500,
   "metadata": {},
   "outputs": [
    {
     "data": {
      "text/plain": [
       "0    14149\n",
       "1     4865\n",
       "2     2131\n",
       "3      330\n",
       "4       41\n",
       "5        9\n",
       "Name: children, dtype: int64"
      ]
     },
     "execution_count": 500,
     "metadata": {},
     "output_type": "execute_result"
    }
   ],
   "source": [
    "df.loc[df['children'] == 20, 'children'] = 2\n",
    "df.loc[df['children'] == -1, 'children'] = 1\n",
    "df['children'].value_counts()"
   ]
  },
  {
   "cell_type": "markdown",
   "metadata": {},
   "source": [
    "Now values of `children` column make more sense.\n",
    "#### `gender` column\n",
    "Let's take a look at `gender` column:"
   ]
  },
  {
   "cell_type": "code",
   "execution_count": 501,
   "metadata": {},
   "outputs": [
    {
     "data": {
      "text/plain": [
       "F      14236\n",
       "M       7288\n",
       "XNA        1\n",
       "Name: gender, dtype: int64"
      ]
     },
     "execution_count": 501,
     "metadata": {},
     "output_type": "execute_result"
    }
   ],
   "source": [
    "df['gender'].value_counts()"
   ]
  },
  {
   "cell_type": "markdown",
   "metadata": {},
   "source": [
    "We see here one non-binary person with no identified gender. <br>\n",
    "That's 1 case of 21525, which means that it's statistically insignificant, we can drop that row."
   ]
  },
  {
   "cell_type": "code",
   "execution_count": 502,
   "metadata": {},
   "outputs": [],
   "source": [
    "df.drop(df[df['gender'] == 'XNA'].index, inplace = True) "
   ]
  },
  {
   "cell_type": "markdown",
   "metadata": {},
   "source": [
    "#### `income_type` column\n",
    "Let's take a look at all unique categories of `income_type` column:"
   ]
  },
  {
   "cell_type": "code",
   "execution_count": 503,
   "metadata": {},
   "outputs": [
    {
     "data": {
      "text/plain": [
       "employee                       11119\n",
       "business                        5084\n",
       "retiree                         3856\n",
       "civil servant                   1459\n",
       "unemployed                         2\n",
       "entrepreneur                       2\n",
       "student                            1\n",
       "paternity / maternity leave        1\n",
       "Name: income_type, dtype: int64"
      ]
     },
     "execution_count": 503,
     "metadata": {},
     "output_type": "execute_result"
    }
   ],
   "source": [
    "df['income_type'].value_counts()"
   ]
  },
  {
   "cell_type": "markdown",
   "metadata": {},
   "source": [
    "Here we see that some income types don't have enough cases to be statistically significant. <br>\n",
    "1-2 cases out of 21525 cases overall making percent extremely close to 0.\n",
    " - _\"entrepreneur\"_ category could be joined with _\"business\"_\n",
    " - _\"unemployed\", \"paternity / maternity leave\"_ and _\"student\"_ could be dropped."
   ]
  },
  {
   "cell_type": "code",
   "execution_count": 504,
   "metadata": {},
   "outputs": [],
   "source": [
    "df.loc[(df['income_type'] == 'entrepreneur'), 'income_type'] = 'business'\n",
    "df.drop(df[(df['income_type'] == 'unemployed') | (df['income_type'] == 'paternity / maternity leave') | (df['income_type'] == 'student')].index, inplace = True) "
   ]
  },
  {
   "cell_type": "markdown",
   "metadata": {},
   "source": [
    "#### Conclusion: \n",
    "We fixed some artifact values at the `children` column and got rid of some statistically insignificant categories at `gender` and `income type` columns."
   ]
  },
  {
   "cell_type": "markdown",
   "metadata": {},
   "source": [
    "### Categorizing Data\n",
    "Now when we processed all of our data and got rid of all missing values and duplicates, it's time to analyse it. <br>\n",
    "Our project goal is to check if there're any correlations between number of children or marital status and whether or not customers will default on a loan.  <br>\n",
    "Let's split our data to groups according to those parameters and compare percent of people that didn't repay their debt on time. \n",
    "#### Categorizing by number of children\n",
    "First, let's sort the table according to the number of children. <br>\n",
    "We're going to group the data frame by unique values of `children` column and then apply two functions to the `debt` column: **count** - to count the amount of rows corresponding to each number of children and **sum** - to calculate the sum of `debt` column values corresponding to each category. Since values of the debt column are either 0 in case if the customer didn't default on a loan or 1 in case if he did, summarizing values of the `debt` column for each category allows us to see how many people related to that category didn't repay theri loan on time. <br>\n",
    "Let's save results to the new `categorized_by_children` data frame:"
   ]
  },
  {
   "cell_type": "code",
   "execution_count": 505,
   "metadata": {},
   "outputs": [
    {
     "data": {
      "text/html": [
       "<div>\n",
       "<style scoped>\n",
       "    .dataframe tbody tr th:only-of-type {\n",
       "        vertical-align: middle;\n",
       "    }\n",
       "\n",
       "    .dataframe tbody tr th {\n",
       "        vertical-align: top;\n",
       "    }\n",
       "\n",
       "    .dataframe thead tr th {\n",
       "        text-align: left;\n",
       "    }\n",
       "\n",
       "    .dataframe thead tr:last-of-type th {\n",
       "        text-align: right;\n",
       "    }\n",
       "</style>\n",
       "<table border=\"1\" class=\"dataframe\">\n",
       "  <thead>\n",
       "    <tr>\n",
       "      <th></th>\n",
       "      <th colspan=\"2\" halign=\"left\">debt</th>\n",
       "    </tr>\n",
       "    <tr>\n",
       "      <th></th>\n",
       "      <th>count</th>\n",
       "      <th>sum</th>\n",
       "    </tr>\n",
       "    <tr>\n",
       "      <th>children</th>\n",
       "      <th></th>\n",
       "      <th></th>\n",
       "    </tr>\n",
       "  </thead>\n",
       "  <tbody>\n",
       "    <tr>\n",
       "      <th>0</th>\n",
       "      <td>14146</td>\n",
       "      <td>1063</td>\n",
       "    </tr>\n",
       "    <tr>\n",
       "      <th>1</th>\n",
       "      <td>4864</td>\n",
       "      <td>444</td>\n",
       "    </tr>\n",
       "    <tr>\n",
       "      <th>2</th>\n",
       "      <td>2130</td>\n",
       "      <td>201</td>\n",
       "    </tr>\n",
       "    <tr>\n",
       "      <th>3</th>\n",
       "      <td>330</td>\n",
       "      <td>27</td>\n",
       "    </tr>\n",
       "    <tr>\n",
       "      <th>4</th>\n",
       "      <td>41</td>\n",
       "      <td>4</td>\n",
       "    </tr>\n",
       "    <tr>\n",
       "      <th>5</th>\n",
       "      <td>9</td>\n",
       "      <td>0</td>\n",
       "    </tr>\n",
       "  </tbody>\n",
       "</table>\n",
       "</div>"
      ],
      "text/plain": [
       "           debt      \n",
       "          count   sum\n",
       "children             \n",
       "0         14146  1063\n",
       "1          4864   444\n",
       "2          2130   201\n",
       "3           330    27\n",
       "4            41     4\n",
       "5             9     0"
      ]
     },
     "execution_count": 505,
     "metadata": {},
     "output_type": "execute_result"
    }
   ],
   "source": [
    "categorized_by_children = df.groupby('children').agg({'debt':['count', 'sum']})\n",
    "categorized_by_children"
   ]
  },
  {
   "cell_type": "markdown",
   "metadata": {},
   "source": [
    "Now we're going to divide number of default cases (`sum` column) by number of cases overall (`count` column) to know the ratio and multiply the result by 100 to get percent of default cases in each group, result would be saved to the new `default_percent` column. <br>\n",
    "Besides that, let's reset our columns names to get rid of double indexing."
   ]
  },
  {
   "cell_type": "code",
   "execution_count": 506,
   "metadata": {
    "scrolled": true
   },
   "outputs": [
    {
     "data": {
      "text/html": [
       "<div>\n",
       "<style scoped>\n",
       "    .dataframe tbody tr th:only-of-type {\n",
       "        vertical-align: middle;\n",
       "    }\n",
       "\n",
       "    .dataframe tbody tr th {\n",
       "        vertical-align: top;\n",
       "    }\n",
       "\n",
       "    .dataframe thead th {\n",
       "        text-align: right;\n",
       "    }\n",
       "</style>\n",
       "<table border=\"1\" class=\"dataframe\">\n",
       "  <thead>\n",
       "    <tr style=\"text-align: right;\">\n",
       "      <th></th>\n",
       "      <th>count</th>\n",
       "      <th>sum</th>\n",
       "      <th>default_percent</th>\n",
       "    </tr>\n",
       "    <tr>\n",
       "      <th>children</th>\n",
       "      <th></th>\n",
       "      <th></th>\n",
       "      <th></th>\n",
       "    </tr>\n",
       "  </thead>\n",
       "  <tbody>\n",
       "    <tr>\n",
       "      <th>0</th>\n",
       "      <td>14146</td>\n",
       "      <td>1063</td>\n",
       "      <td>7.51</td>\n",
       "    </tr>\n",
       "    <tr>\n",
       "      <th>1</th>\n",
       "      <td>4864</td>\n",
       "      <td>444</td>\n",
       "      <td>9.13</td>\n",
       "    </tr>\n",
       "    <tr>\n",
       "      <th>2</th>\n",
       "      <td>2130</td>\n",
       "      <td>201</td>\n",
       "      <td>9.44</td>\n",
       "    </tr>\n",
       "    <tr>\n",
       "      <th>3</th>\n",
       "      <td>330</td>\n",
       "      <td>27</td>\n",
       "      <td>8.18</td>\n",
       "    </tr>\n",
       "    <tr>\n",
       "      <th>4</th>\n",
       "      <td>41</td>\n",
       "      <td>4</td>\n",
       "      <td>9.76</td>\n",
       "    </tr>\n",
       "    <tr>\n",
       "      <th>5</th>\n",
       "      <td>9</td>\n",
       "      <td>0</td>\n",
       "      <td>0.00</td>\n",
       "    </tr>\n",
       "  </tbody>\n",
       "</table>\n",
       "</div>"
      ],
      "text/plain": [
       "          count   sum  default_percent\n",
       "children                              \n",
       "0         14146  1063             7.51\n",
       "1          4864   444             9.13\n",
       "2          2130   201             9.44\n",
       "3           330    27             8.18\n",
       "4            41     4             9.76\n",
       "5             9     0             0.00"
      ]
     },
     "execution_count": 506,
     "metadata": {},
     "output_type": "execute_result"
    }
   ],
   "source": [
    "categorized_by_children.columns =['count', 'sum'] \n",
    "categorized_by_children['default_percent'] = (categorized_by_children['sum'] / categorized_by_children['count']*100).round(2)\n",
    "categorized_by_children"
   ]
  },
  {
   "cell_type": "markdown",
   "metadata": {},
   "source": [
    "#### Categorizing by marital status\n",
    "Let's apply the same method to compare default percent for each family status:"
   ]
  },
  {
   "cell_type": "code",
   "execution_count": 507,
   "metadata": {
    "scrolled": true
   },
   "outputs": [
    {
     "data": {
      "text/html": [
       "<div>\n",
       "<style scoped>\n",
       "    .dataframe tbody tr th:only-of-type {\n",
       "        vertical-align: middle;\n",
       "    }\n",
       "\n",
       "    .dataframe tbody tr th {\n",
       "        vertical-align: top;\n",
       "    }\n",
       "\n",
       "    .dataframe thead th {\n",
       "        text-align: right;\n",
       "    }\n",
       "</style>\n",
       "<table border=\"1\" class=\"dataframe\">\n",
       "  <thead>\n",
       "    <tr style=\"text-align: right;\">\n",
       "      <th></th>\n",
       "      <th>count</th>\n",
       "      <th>sum</th>\n",
       "      <th>default_percent</th>\n",
       "    </tr>\n",
       "    <tr>\n",
       "      <th>family_status</th>\n",
       "      <th></th>\n",
       "      <th></th>\n",
       "      <th></th>\n",
       "    </tr>\n",
       "  </thead>\n",
       "  <tbody>\n",
       "    <tr>\n",
       "      <th>civil partnership</th>\n",
       "      <td>4175</td>\n",
       "      <td>388</td>\n",
       "      <td>9.29</td>\n",
       "    </tr>\n",
       "    <tr>\n",
       "      <th>divorced</th>\n",
       "      <td>1195</td>\n",
       "      <td>85</td>\n",
       "      <td>7.11</td>\n",
       "    </tr>\n",
       "    <tr>\n",
       "      <th>married</th>\n",
       "      <td>12378</td>\n",
       "      <td>929</td>\n",
       "      <td>7.51</td>\n",
       "    </tr>\n",
       "    <tr>\n",
       "      <th>unmarried</th>\n",
       "      <td>2812</td>\n",
       "      <td>274</td>\n",
       "      <td>9.74</td>\n",
       "    </tr>\n",
       "    <tr>\n",
       "      <th>widow / widower</th>\n",
       "      <td>960</td>\n",
       "      <td>63</td>\n",
       "      <td>6.56</td>\n",
       "    </tr>\n",
       "  </tbody>\n",
       "</table>\n",
       "</div>"
      ],
      "text/plain": [
       "                   count  sum  default_percent\n",
       "family_status                                 \n",
       "civil partnership   4175  388             9.29\n",
       "divorced            1195   85             7.11\n",
       "married            12378  929             7.51\n",
       "unmarried           2812  274             9.74\n",
       "widow / widower      960   63             6.56"
      ]
     },
     "execution_count": 507,
     "metadata": {},
     "output_type": "execute_result"
    }
   ],
   "source": [
    "categorized_by_family_status = df.groupby('family_status').agg({'debt':['count', 'sum']})\n",
    "categorized_by_family_status.columns =['count', 'sum'] \n",
    "categorized_by_family_status['default_percent'] = (categorized_by_family_status['sum'] / categorized_by_family_status['count']*100).round(2)\n",
    "categorized_by_family_status"
   ]
  },
  {
   "cell_type": "markdown",
   "metadata": {},
   "source": [
    "#### Categorizing by income level\n",
    "Let's found out if income has any impact on default cases percent. <br>\n",
    "We have data for income type and income amount. Let's check income type first:"
   ]
  },
  {
   "cell_type": "code",
   "execution_count": 508,
   "metadata": {
    "scrolled": true
   },
   "outputs": [
    {
     "data": {
      "text/html": [
       "<div>\n",
       "<style scoped>\n",
       "    .dataframe tbody tr th:only-of-type {\n",
       "        vertical-align: middle;\n",
       "    }\n",
       "\n",
       "    .dataframe tbody tr th {\n",
       "        vertical-align: top;\n",
       "    }\n",
       "\n",
       "    .dataframe thead th {\n",
       "        text-align: right;\n",
       "    }\n",
       "</style>\n",
       "<table border=\"1\" class=\"dataframe\">\n",
       "  <thead>\n",
       "    <tr style=\"text-align: right;\">\n",
       "      <th></th>\n",
       "      <th>count</th>\n",
       "      <th>sum</th>\n",
       "      <th>default_percent</th>\n",
       "    </tr>\n",
       "    <tr>\n",
       "      <th>income_type</th>\n",
       "      <th></th>\n",
       "      <th></th>\n",
       "      <th></th>\n",
       "    </tr>\n",
       "  </thead>\n",
       "  <tbody>\n",
       "    <tr>\n",
       "      <th>business</th>\n",
       "      <td>5086</td>\n",
       "      <td>376</td>\n",
       "      <td>7.39</td>\n",
       "    </tr>\n",
       "    <tr>\n",
       "      <th>civil servant</th>\n",
       "      <td>1459</td>\n",
       "      <td>86</td>\n",
       "      <td>5.89</td>\n",
       "    </tr>\n",
       "    <tr>\n",
       "      <th>employee</th>\n",
       "      <td>11119</td>\n",
       "      <td>1061</td>\n",
       "      <td>9.54</td>\n",
       "    </tr>\n",
       "    <tr>\n",
       "      <th>retiree</th>\n",
       "      <td>3856</td>\n",
       "      <td>216</td>\n",
       "      <td>5.60</td>\n",
       "    </tr>\n",
       "  </tbody>\n",
       "</table>\n",
       "</div>"
      ],
      "text/plain": [
       "               count   sum  default_percent\n",
       "income_type                                \n",
       "business        5086   376             7.39\n",
       "civil servant   1459    86             5.89\n",
       "employee       11119  1061             9.54\n",
       "retiree         3856   216             5.60"
      ]
     },
     "execution_count": 508,
     "metadata": {},
     "output_type": "execute_result"
    }
   ],
   "source": [
    "categorized_by_income_type = df.groupby('income_type').agg({'debt':['count', 'sum']})\n",
    "categorized_by_income_type.columns =['count', 'sum'] \n",
    "categorized_by_income_type['default_percent'] = (categorized_by_income_type['sum'] / categorized_by_income_type['count']*100).round(2)\n",
    "categorized_by_income_type"
   ]
  },
  {
   "cell_type": "markdown",
   "metadata": {},
   "source": [
    "Unlike income type, income amount (`total_income` column) is quantitative data, so in order to analyze it we need to split it into categories. <br>\n",
    "Let's see how we could do that:"
   ]
  },
  {
   "cell_type": "code",
   "execution_count": 509,
   "metadata": {
    "scrolled": true
   },
   "outputs": [
    {
     "data": {
      "text/plain": [
       "count     21520.000000\n",
       "mean      26788.688569\n",
       "std       15621.873202\n",
       "min        3306.000000\n",
       "25%       17248.000000\n",
       "50%       25024.000000\n",
       "75%       31285.250000\n",
       "max      362496.000000\n",
       "Name: total_income, dtype: float64"
      ]
     },
     "execution_count": 509,
     "metadata": {},
     "output_type": "execute_result"
    }
   ],
   "source": [
    "df['total_income'].describe()"
   ]
  },
  {
   "cell_type": "markdown",
   "metadata": {},
   "source": [
    "We can split all spectrum of `total_income` values into 4 quarters by 25%, median and 75% values. Let's name those categories _\"very low\"_ - for quarter under 25%, _\"low\"_ for 25-50%, _\"high\"_ for 50-75% and _\"very high\"_ for values over 75%. <br>\n",
    "Now let's write a function that would do that separation for us and apply it to the `total_income` column, saving result in new column `total_income_grouped`:"
   ]
  },
  {
   "cell_type": "code",
   "execution_count": 510,
   "metadata": {},
   "outputs": [],
   "source": [
    "def income_group(income):\n",
    "    if income <= 17248:\n",
    "        return 'very low'\n",
    "    if income <= 25024:\n",
    "        return 'low'   \n",
    "    if income <= 31285:\n",
    "        return 'high'  \n",
    "    return 'very high' \n",
    "\n",
    "df['total_income_grouped'] = df['total_income'].apply(income_group)"
   ]
  },
  {
   "cell_type": "markdown",
   "metadata": {},
   "source": [
    "Now when we have income amount data splitted into categories, let's compare default dercent for each of them:"
   ]
  },
  {
   "cell_type": "code",
   "execution_count": 511,
   "metadata": {},
   "outputs": [
    {
     "data": {
      "text/html": [
       "<div>\n",
       "<style scoped>\n",
       "    .dataframe tbody tr th:only-of-type {\n",
       "        vertical-align: middle;\n",
       "    }\n",
       "\n",
       "    .dataframe tbody tr th {\n",
       "        vertical-align: top;\n",
       "    }\n",
       "\n",
       "    .dataframe thead th {\n",
       "        text-align: right;\n",
       "    }\n",
       "</style>\n",
       "<table border=\"1\" class=\"dataframe\">\n",
       "  <thead>\n",
       "    <tr style=\"text-align: right;\">\n",
       "      <th></th>\n",
       "      <th>count</th>\n",
       "      <th>sum</th>\n",
       "      <th>default_percent</th>\n",
       "    </tr>\n",
       "    <tr>\n",
       "      <th>total_income_grouped</th>\n",
       "      <th></th>\n",
       "      <th></th>\n",
       "      <th></th>\n",
       "    </tr>\n",
       "  </thead>\n",
       "  <tbody>\n",
       "    <tr>\n",
       "      <th>high</th>\n",
       "      <td>5379</td>\n",
       "      <td>455</td>\n",
       "      <td>8.46</td>\n",
       "    </tr>\n",
       "    <tr>\n",
       "      <th>low</th>\n",
       "      <td>5380</td>\n",
       "      <td>473</td>\n",
       "      <td>8.79</td>\n",
       "    </tr>\n",
       "    <tr>\n",
       "      <th>very high</th>\n",
       "      <td>5380</td>\n",
       "      <td>386</td>\n",
       "      <td>7.17</td>\n",
       "    </tr>\n",
       "    <tr>\n",
       "      <th>very low</th>\n",
       "      <td>5381</td>\n",
       "      <td>425</td>\n",
       "      <td>7.90</td>\n",
       "    </tr>\n",
       "  </tbody>\n",
       "</table>\n",
       "</div>"
      ],
      "text/plain": [
       "                      count  sum  default_percent\n",
       "total_income_grouped                             \n",
       "high                   5379  455             8.46\n",
       "low                    5380  473             8.79\n",
       "very high              5380  386             7.17\n",
       "very low               5381  425             7.90"
      ]
     },
     "execution_count": 511,
     "metadata": {},
     "output_type": "execute_result"
    }
   ],
   "source": [
    "categorized_by_income = df.groupby('total_income_grouped').agg({'debt':['count', 'sum']})\n",
    "categorized_by_income.columns =['count', 'sum'] \n",
    "categorized_by_income['default_percent'] = (categorized_by_income['sum'] / categorized_by_income['count']*100).round(2)\n",
    "categorized_by_income"
   ]
  },
  {
   "cell_type": "markdown",
   "metadata": {},
   "source": [
    "#### Categorizing by purpose\n",
    "Let's apply the same technique as for children, family status and income for purpose parameter as well:"
   ]
  },
  {
   "cell_type": "code",
   "execution_count": 512,
   "metadata": {
    "scrolled": true
   },
   "outputs": [
    {
     "data": {
      "text/html": [
       "<div>\n",
       "<style scoped>\n",
       "    .dataframe tbody tr th:only-of-type {\n",
       "        vertical-align: middle;\n",
       "    }\n",
       "\n",
       "    .dataframe tbody tr th {\n",
       "        vertical-align: top;\n",
       "    }\n",
       "\n",
       "    .dataframe thead th {\n",
       "        text-align: right;\n",
       "    }\n",
       "</style>\n",
       "<table border=\"1\" class=\"dataframe\">\n",
       "  <thead>\n",
       "    <tr style=\"text-align: right;\">\n",
       "      <th></th>\n",
       "      <th>count</th>\n",
       "      <th>sum</th>\n",
       "      <th>default_percent</th>\n",
       "    </tr>\n",
       "    <tr>\n",
       "      <th>purpose</th>\n",
       "      <th></th>\n",
       "      <th></th>\n",
       "      <th></th>\n",
       "    </tr>\n",
       "  </thead>\n",
       "  <tbody>\n",
       "    <tr>\n",
       "      <th>car</th>\n",
       "      <td>4314</td>\n",
       "      <td>402</td>\n",
       "      <td>9.32</td>\n",
       "    </tr>\n",
       "    <tr>\n",
       "      <th>education</th>\n",
       "      <td>4022</td>\n",
       "      <td>370</td>\n",
       "      <td>9.20</td>\n",
       "    </tr>\n",
       "    <tr>\n",
       "      <th>real_estate</th>\n",
       "      <td>10836</td>\n",
       "      <td>781</td>\n",
       "      <td>7.21</td>\n",
       "    </tr>\n",
       "    <tr>\n",
       "      <th>wedding</th>\n",
       "      <td>2348</td>\n",
       "      <td>186</td>\n",
       "      <td>7.92</td>\n",
       "    </tr>\n",
       "  </tbody>\n",
       "</table>\n",
       "</div>"
      ],
      "text/plain": [
       "             count  sum  default_percent\n",
       "purpose                                 \n",
       "car           4314  402             9.32\n",
       "education     4022  370             9.20\n",
       "real_estate  10836  781             7.21\n",
       "wedding       2348  186             7.92"
      ]
     },
     "execution_count": 512,
     "metadata": {},
     "output_type": "execute_result"
    }
   ],
   "source": [
    "categorized_by_purpose = df.groupby('purpose').agg({'debt':['count', 'sum']})\n",
    "categorized_by_purpose.columns =['count', 'sum'] \n",
    "categorized_by_purpose['default_percent'] = (categorized_by_purpose['sum'] / categorized_by_purpose['count']*100).round(2)\n",
    "categorized_by_purpose"
   ]
  },
  {
   "cell_type": "markdown",
   "metadata": {},
   "source": [
    "#### Conclusion: \n",
    "We categorized data by a few parameters like amount of kids, family status, income level and purpose for taking a loan. For each category of people we calculated percent of default cases and exported results into tables. Now we are ready to make a conclusion which categories have higher chances to default on a loan."
   ]
  },
  {
   "cell_type": "markdown",
   "metadata": {},
   "source": [
    "### Step 3. Answer these questions"
   ]
  },
  {
   "cell_type": "markdown",
   "metadata": {},
   "source": [
    "- **Is there a relation between having kids and repaying a loan on time?**"
   ]
  },
  {
   "cell_type": "code",
   "execution_count": 513,
   "metadata": {},
   "outputs": [
    {
     "data": {
      "text/html": [
       "<div>\n",
       "<style scoped>\n",
       "    .dataframe tbody tr th:only-of-type {\n",
       "        vertical-align: middle;\n",
       "    }\n",
       "\n",
       "    .dataframe tbody tr th {\n",
       "        vertical-align: top;\n",
       "    }\n",
       "\n",
       "    .dataframe thead th {\n",
       "        text-align: right;\n",
       "    }\n",
       "</style>\n",
       "<table border=\"1\" class=\"dataframe\">\n",
       "  <thead>\n",
       "    <tr style=\"text-align: right;\">\n",
       "      <th></th>\n",
       "      <th>count</th>\n",
       "      <th>sum</th>\n",
       "      <th>default_percent</th>\n",
       "    </tr>\n",
       "    <tr>\n",
       "      <th>children</th>\n",
       "      <th></th>\n",
       "      <th></th>\n",
       "      <th></th>\n",
       "    </tr>\n",
       "  </thead>\n",
       "  <tbody>\n",
       "    <tr>\n",
       "      <th>4</th>\n",
       "      <td>41</td>\n",
       "      <td>4</td>\n",
       "      <td>9.76</td>\n",
       "    </tr>\n",
       "    <tr>\n",
       "      <th>2</th>\n",
       "      <td>2130</td>\n",
       "      <td>201</td>\n",
       "      <td>9.44</td>\n",
       "    </tr>\n",
       "    <tr>\n",
       "      <th>1</th>\n",
       "      <td>4864</td>\n",
       "      <td>444</td>\n",
       "      <td>9.13</td>\n",
       "    </tr>\n",
       "    <tr>\n",
       "      <th>3</th>\n",
       "      <td>330</td>\n",
       "      <td>27</td>\n",
       "      <td>8.18</td>\n",
       "    </tr>\n",
       "    <tr>\n",
       "      <th>0</th>\n",
       "      <td>14146</td>\n",
       "      <td>1063</td>\n",
       "      <td>7.51</td>\n",
       "    </tr>\n",
       "    <tr>\n",
       "      <th>5</th>\n",
       "      <td>9</td>\n",
       "      <td>0</td>\n",
       "      <td>0.00</td>\n",
       "    </tr>\n",
       "  </tbody>\n",
       "</table>\n",
       "</div>"
      ],
      "text/plain": [
       "          count   sum  default_percent\n",
       "children                              \n",
       "4            41     4             9.76\n",
       "2          2130   201             9.44\n",
       "1          4864   444             9.13\n",
       "3           330    27             8.18\n",
       "0         14146  1063             7.51\n",
       "5             9     0             0.00"
      ]
     },
     "execution_count": 513,
     "metadata": {},
     "output_type": "execute_result"
    }
   ],
   "source": [
    "categorized_by_children.sort_values('default_percent', ascending = False)"
   ]
  },
  {
   "cell_type": "markdown",
   "metadata": {},
   "source": [
    "From this table we see that having kids increases chances of not repaying the loan on time. <br>\n",
    "We also see a tendency of that chance to increase with the amount of kids, but it's not very clear, for example, customers with **3** kids don't fit into that theory and customers with **5** kids don't have enough cases to make any assumptions about their default rate at all."
   ]
  },
  {
   "cell_type": "markdown",
   "metadata": {},
   "source": [
    "- **Is there a relation between marital status and repaying a loan on time?**"
   ]
  },
  {
   "cell_type": "code",
   "execution_count": 514,
   "metadata": {},
   "outputs": [
    {
     "data": {
      "text/html": [
       "<div>\n",
       "<style scoped>\n",
       "    .dataframe tbody tr th:only-of-type {\n",
       "        vertical-align: middle;\n",
       "    }\n",
       "\n",
       "    .dataframe tbody tr th {\n",
       "        vertical-align: top;\n",
       "    }\n",
       "\n",
       "    .dataframe thead th {\n",
       "        text-align: right;\n",
       "    }\n",
       "</style>\n",
       "<table border=\"1\" class=\"dataframe\">\n",
       "  <thead>\n",
       "    <tr style=\"text-align: right;\">\n",
       "      <th></th>\n",
       "      <th>count</th>\n",
       "      <th>sum</th>\n",
       "      <th>default_percent</th>\n",
       "    </tr>\n",
       "    <tr>\n",
       "      <th>family_status</th>\n",
       "      <th></th>\n",
       "      <th></th>\n",
       "      <th></th>\n",
       "    </tr>\n",
       "  </thead>\n",
       "  <tbody>\n",
       "    <tr>\n",
       "      <th>unmarried</th>\n",
       "      <td>2812</td>\n",
       "      <td>274</td>\n",
       "      <td>9.74</td>\n",
       "    </tr>\n",
       "    <tr>\n",
       "      <th>civil partnership</th>\n",
       "      <td>4175</td>\n",
       "      <td>388</td>\n",
       "      <td>9.29</td>\n",
       "    </tr>\n",
       "    <tr>\n",
       "      <th>married</th>\n",
       "      <td>12378</td>\n",
       "      <td>929</td>\n",
       "      <td>7.51</td>\n",
       "    </tr>\n",
       "    <tr>\n",
       "      <th>divorced</th>\n",
       "      <td>1195</td>\n",
       "      <td>85</td>\n",
       "      <td>7.11</td>\n",
       "    </tr>\n",
       "    <tr>\n",
       "      <th>widow / widower</th>\n",
       "      <td>960</td>\n",
       "      <td>63</td>\n",
       "      <td>6.56</td>\n",
       "    </tr>\n",
       "  </tbody>\n",
       "</table>\n",
       "</div>"
      ],
      "text/plain": [
       "                   count  sum  default_percent\n",
       "family_status                                 \n",
       "unmarried           2812  274             9.74\n",
       "civil partnership   4175  388             9.29\n",
       "married            12378  929             7.51\n",
       "divorced            1195   85             7.11\n",
       "widow / widower      960   63             6.56"
      ]
     },
     "execution_count": 514,
     "metadata": {},
     "output_type": "execute_result"
    }
   ],
   "source": [
    "categorized_by_family_status.sort_values('default_percent', ascending = False)"
   ]
  },
  {
   "cell_type": "markdown",
   "metadata": {},
   "source": [
    "**Unmarried** and those people who are in **civil partnership**\tare two groups that more likely would default on a loan. <br>\n",
    "**Married** and **divorced** are less likely to do that, while **widows/ widowers** have the highest chances to repay on time. "
   ]
  },
  {
   "cell_type": "markdown",
   "metadata": {},
   "source": [
    "- **Is there a relation between income level and repaying a loan on time?**"
   ]
  },
  {
   "cell_type": "code",
   "execution_count": 515,
   "metadata": {},
   "outputs": [
    {
     "data": {
      "text/html": [
       "<div>\n",
       "<style scoped>\n",
       "    .dataframe tbody tr th:only-of-type {\n",
       "        vertical-align: middle;\n",
       "    }\n",
       "\n",
       "    .dataframe tbody tr th {\n",
       "        vertical-align: top;\n",
       "    }\n",
       "\n",
       "    .dataframe thead th {\n",
       "        text-align: right;\n",
       "    }\n",
       "</style>\n",
       "<table border=\"1\" class=\"dataframe\">\n",
       "  <thead>\n",
       "    <tr style=\"text-align: right;\">\n",
       "      <th></th>\n",
       "      <th>count</th>\n",
       "      <th>sum</th>\n",
       "      <th>default_percent</th>\n",
       "    </tr>\n",
       "    <tr>\n",
       "      <th>total_income_grouped</th>\n",
       "      <th></th>\n",
       "      <th></th>\n",
       "      <th></th>\n",
       "    </tr>\n",
       "  </thead>\n",
       "  <tbody>\n",
       "    <tr>\n",
       "      <th>low</th>\n",
       "      <td>5380</td>\n",
       "      <td>473</td>\n",
       "      <td>8.79</td>\n",
       "    </tr>\n",
       "    <tr>\n",
       "      <th>high</th>\n",
       "      <td>5379</td>\n",
       "      <td>455</td>\n",
       "      <td>8.46</td>\n",
       "    </tr>\n",
       "    <tr>\n",
       "      <th>very low</th>\n",
       "      <td>5381</td>\n",
       "      <td>425</td>\n",
       "      <td>7.90</td>\n",
       "    </tr>\n",
       "    <tr>\n",
       "      <th>very high</th>\n",
       "      <td>5380</td>\n",
       "      <td>386</td>\n",
       "      <td>7.17</td>\n",
       "    </tr>\n",
       "  </tbody>\n",
       "</table>\n",
       "</div>"
      ],
      "text/plain": [
       "                      count  sum  default_percent\n",
       "total_income_grouped                             \n",
       "low                    5380  473             8.79\n",
       "high                   5379  455             8.46\n",
       "very low               5381  425             7.90\n",
       "very high              5380  386             7.17"
      ]
     },
     "execution_count": 515,
     "metadata": {},
     "output_type": "execute_result"
    }
   ],
   "source": [
    "categorized_by_income.sort_values('default_percent', ascending = False)"
   ]
  },
  {
   "cell_type": "markdown",
   "metadata": {},
   "source": [
    "People with **lowest** and **highest** amount of income have higher chances to repay loan on time."
   ]
  },
  {
   "cell_type": "code",
   "execution_count": 516,
   "metadata": {},
   "outputs": [
    {
     "data": {
      "text/html": [
       "<div>\n",
       "<style scoped>\n",
       "    .dataframe tbody tr th:only-of-type {\n",
       "        vertical-align: middle;\n",
       "    }\n",
       "\n",
       "    .dataframe tbody tr th {\n",
       "        vertical-align: top;\n",
       "    }\n",
       "\n",
       "    .dataframe thead th {\n",
       "        text-align: right;\n",
       "    }\n",
       "</style>\n",
       "<table border=\"1\" class=\"dataframe\">\n",
       "  <thead>\n",
       "    <tr style=\"text-align: right;\">\n",
       "      <th></th>\n",
       "      <th>count</th>\n",
       "      <th>sum</th>\n",
       "      <th>default_percent</th>\n",
       "    </tr>\n",
       "    <tr>\n",
       "      <th>income_type</th>\n",
       "      <th></th>\n",
       "      <th></th>\n",
       "      <th></th>\n",
       "    </tr>\n",
       "  </thead>\n",
       "  <tbody>\n",
       "    <tr>\n",
       "      <th>employee</th>\n",
       "      <td>11119</td>\n",
       "      <td>1061</td>\n",
       "      <td>9.54</td>\n",
       "    </tr>\n",
       "    <tr>\n",
       "      <th>business</th>\n",
       "      <td>5086</td>\n",
       "      <td>376</td>\n",
       "      <td>7.39</td>\n",
       "    </tr>\n",
       "    <tr>\n",
       "      <th>civil servant</th>\n",
       "      <td>1459</td>\n",
       "      <td>86</td>\n",
       "      <td>5.89</td>\n",
       "    </tr>\n",
       "    <tr>\n",
       "      <th>retiree</th>\n",
       "      <td>3856</td>\n",
       "      <td>216</td>\n",
       "      <td>5.60</td>\n",
       "    </tr>\n",
       "  </tbody>\n",
       "</table>\n",
       "</div>"
      ],
      "text/plain": [
       "               count   sum  default_percent\n",
       "income_type                                \n",
       "employee       11119  1061             9.54\n",
       "business        5086   376             7.39\n",
       "civil servant   1459    86             5.89\n",
       "retiree         3856   216             5.60"
      ]
     },
     "execution_count": 516,
     "metadata": {},
     "output_type": "execute_result"
    }
   ],
   "source": [
    "categorized_by_income_type.sort_values('default_percent', ascending = False)"
   ]
  },
  {
   "cell_type": "markdown",
   "metadata": {},
   "source": [
    "Comparing sources of income, we can say that **retirees** and **civil servants** have very low chance of not repaying their debt, while **employees** more likely would default on their loan. Those who run their own **business** have default cases percent little lower than average. "
   ]
  },
  {
   "cell_type": "markdown",
   "metadata": {},
   "source": [
    "- **How do different loan purposes affect on-time repayment of the loan?**"
   ]
  },
  {
   "cell_type": "code",
   "execution_count": 517,
   "metadata": {},
   "outputs": [
    {
     "data": {
      "text/html": [
       "<div>\n",
       "<style scoped>\n",
       "    .dataframe tbody tr th:only-of-type {\n",
       "        vertical-align: middle;\n",
       "    }\n",
       "\n",
       "    .dataframe tbody tr th {\n",
       "        vertical-align: top;\n",
       "    }\n",
       "\n",
       "    .dataframe thead th {\n",
       "        text-align: right;\n",
       "    }\n",
       "</style>\n",
       "<table border=\"1\" class=\"dataframe\">\n",
       "  <thead>\n",
       "    <tr style=\"text-align: right;\">\n",
       "      <th></th>\n",
       "      <th>count</th>\n",
       "      <th>sum</th>\n",
       "      <th>default_percent</th>\n",
       "    </tr>\n",
       "    <tr>\n",
       "      <th>purpose</th>\n",
       "      <th></th>\n",
       "      <th></th>\n",
       "      <th></th>\n",
       "    </tr>\n",
       "  </thead>\n",
       "  <tbody>\n",
       "    <tr>\n",
       "      <th>car</th>\n",
       "      <td>4314</td>\n",
       "      <td>402</td>\n",
       "      <td>9.32</td>\n",
       "    </tr>\n",
       "    <tr>\n",
       "      <th>education</th>\n",
       "      <td>4022</td>\n",
       "      <td>370</td>\n",
       "      <td>9.20</td>\n",
       "    </tr>\n",
       "    <tr>\n",
       "      <th>wedding</th>\n",
       "      <td>2348</td>\n",
       "      <td>186</td>\n",
       "      <td>7.92</td>\n",
       "    </tr>\n",
       "    <tr>\n",
       "      <th>real_estate</th>\n",
       "      <td>10836</td>\n",
       "      <td>781</td>\n",
       "      <td>7.21</td>\n",
       "    </tr>\n",
       "  </tbody>\n",
       "</table>\n",
       "</div>"
      ],
      "text/plain": [
       "             count  sum  default_percent\n",
       "purpose                                 \n",
       "car           4314  402             9.32\n",
       "education     4022  370             9.20\n",
       "wedding       2348  186             7.92\n",
       "real_estate  10836  781             7.21"
      ]
     },
     "execution_count": 517,
     "metadata": {},
     "output_type": "execute_result"
    }
   ],
   "source": [
    "categorized_by_purpose.sort_values('default_percent', ascending = False)"
   ]
  },
  {
   "cell_type": "markdown",
   "metadata": {},
   "source": [
    "People who take loans to pay for **wedding** or **real estate** are more likely to repay on time, while those who are going to buy a **car** or get an **education** have higher chances of defaulting on the loan. "
   ]
  },
  {
   "cell_type": "markdown",
   "metadata": {},
   "source": [
    "### Step 4. General conclusion"
   ]
  },
  {
   "cell_type": "markdown",
   "metadata": {},
   "source": [
    "In this project we analysed a dataset of people who took loan in a bank trying to find correlations between customer’s marital status and number of kids and whether or not they will repay loan on time. <br>\n",
    "The Dataset contained some missing values which we managed to fill, as well as some duplicates in categorical values, which we identified and joined together. After preprocessing we splitted all data into categories by number of children and family status and calculated percent of default cases for each of categories to compare that rate and find out who had the highest percent of default cases. <br> \n",
    "Our analysis shows that people with kids who are unmarried or in civil partnerships are most likely not to repay loans on time. "
   ]
  }
 ],
 "metadata": {
  "kernelspec": {
   "display_name": "Python 3",
   "language": "python",
   "name": "python3"
  },
  "language_info": {
   "codemirror_mode": {
    "name": "ipython",
    "version": 3
   },
   "file_extension": ".py",
   "mimetype": "text/x-python",
   "name": "python",
   "nbconvert_exporter": "python",
   "pygments_lexer": "ipython3",
   "version": "3.8.3"
  }
 },
 "nbformat": 4,
 "nbformat_minor": 4
}
